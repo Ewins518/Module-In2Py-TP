{
 "cells": [
  {
   "cell_type": "code",
   "execution_count": 7,
   "id": "convertible-scholarship",
   "metadata": {},
   "outputs": [
    {
     "name": "stdout",
     "output_type": "stream",
     "text": [
      "Entrer la valeur de x :0\n",
      "Entrer la valeur de y :2\n",
      "La valeur de x doit etre non nul\n"
     ]
    }
   ],
   "source": [
    "#1\n",
    "\n",
    "import math \n",
    "\n",
    "x = float(input(\"Entrer la valeur de x :\"))\n",
    "y = float(input(\"Entrer la valeur de y :\"))\n",
    "\n",
    "resultat = 0\n",
    "\n",
    "if(x != 0):\n",
    "    resultat = math.sqrt(math.pow(x,y+2)) / ((1/x) + 2*math.sin(y))\n",
    "    print(resultat)\n",
    "else:\n",
    "    print(\"La valeur de x doit etre non nul\")\n",
    "\n"
   ]
  },
  {
   "cell_type": "code",
   "execution_count": 9,
   "id": "united-stanford",
   "metadata": {},
   "outputs": [
    {
     "name": "stdout",
     "output_type": "stream",
     "text": [
      "Entrer la valeur de b :2\n",
      "Entrer la valeur de l'exposant :1\n",
      "2  à la puissance  1 donne :  2\n"
     ]
    }
   ],
   "source": [
    "#2\n",
    "\n",
    "def ownpowerfn(b,n):\n",
    "    return b**n\n",
    "\n",
    "b = int(input(\"Entrer la valeur de b :\"))\n",
    "n = int(input(\"Entrer la valeur de l'exposant :\"))\n",
    "\n",
    "if(n >= 0):\n",
    "    print(b,\" à la puissance \",n, \"donne : \", power(b,n))\n",
    "else:\n",
    "    print(\"L'exposant doit être positif\")\n",
    "    \n",
    "#Si le n n'était pas positif, la fonction va retourner l'inverse du resultat"
   ]
  },
  {
   "cell_type": "code",
   "execution_count": 2,
   "id": "short-frontier",
   "metadata": {},
   "outputs": [
    {
     "name": "stdout",
     "output_type": "stream",
     "text": [
      "3.141592653589793\n"
     ]
    }
   ],
   "source": [
    "#3\n",
    "import math\n",
    "\n",
    "def arithmetic_mean(a, b):\n",
    "    return (a+b)/2\n",
    "def geometric_mean(a,b):\n",
    "    return math.sqrt(a*b)\n",
    "\n",
    "def celcius_to_fahrenheit(celcius):\n",
    "    return celcius*(9/5) +32\n",
    "\n",
    "def fahrenheit_to_celcius(fahr):\n",
    "    return (5/9)*(fahr - 32)\n",
    "\n",
    "def degrees_to_radians(degre):\n",
    "    return degre*(math.pi/180)\n",
    "\n",
    "def radians_to_degrees(rad):\n",
    "    return (rad*180)/math.pi\n",
    "\n",
    "def circonference(rayon):\n",
    "    return 2 * math.pi * rayon\n",
    "\n",
    "def aire (rayon):\n",
    "    return math.pi * (rayon**2)\n",
    "\n",
    "print(aire(1))"
   ]
  },
  {
   "cell_type": "code",
   "execution_count": 10,
   "id": "productive-phenomenon",
   "metadata": {},
   "outputs": [
    {
     "name": "stdout",
     "output_type": "stream",
     "text": [
      "Moyenne arithmetque :  1.5\n",
      "Moyenne geometrique :  1.7320508075688772\n",
      "\n",
      "Moyenne arithmetque :  1.6160254037844386\n",
      "Moyenne geometrique :  1.6730326074756157\n",
      "\n",
      "Moyenne arithmetque :  1.644529005630027\n",
      "Moyenne geometrique :  1.6587195815925264\n",
      "\n",
      "Moyenne arithmetque :  1.6516242936112766\n",
      "Moyenne geometrique :  1.6551681356427053\n",
      "\n",
      "Moyenne arithmetque :  1.653396214626991\n",
      "Moyenne geometrique :  1.6542819378941616\n",
      "\n",
      "Moyenne arithmetque :  1.6538390762605761\n",
      "Moyenne geometrique :  1.654060492255781\n",
      "\n",
      "Moyenne arithmetque :  1.6539497842581785\n",
      "Moyenne geometrique :  1.6540051373307234\n",
      "\n",
      "Moyenne arithmetque :  1.6539774607944508\n",
      "Moyenne geometrique :  1.6539912990046977\n",
      "\n",
      "Moyenne arithmetque :  1.6539843798995744\n",
      "Moyenne geometrique :  1.653987839448518\n",
      "\n",
      "Moyenne arithmetque :  1.653986109674046\n",
      "Moyenne geometrique :  1.6539869745610558\n",
      "\n"
     ]
    }
   ],
   "source": [
    "#4\n",
    "\n",
    "def avggeom(a , b, itr):\n",
    "    \n",
    "    if itr != 10:\n",
    "        a = arithmetic_mean(a, b)\n",
    "        g = geometric_mean(a,b)\n",
    "        print(\"Moyenne arithmetque : \",a)\n",
    "        print(\"Moyenne geometrique : \",g)\n",
    "        print()\n",
    "        avggeom(a, g, itr = itr + 1)\n",
    "        \n",
    "avggeom(1,2,0)   "
   ]
  },
  {
   "cell_type": "code",
   "execution_count": 11,
   "id": "prescription-technician",
   "metadata": {},
   "outputs": [],
   "source": [
    "#4-b\n",
    "\n",
    "def distancefn(x0,x1,y0,y1):\n",
    "    return math.sqrt(math.pow((x1-x0),2) + math.pow((y1-y0),2) )\n",
    "\n",
    "def perimetre(x0,x1,y0,y1,z0,z1):\n",
    "    cote1 = distantfn(x0,x1,y0,y1)\n",
    "    cote2 = distantfn(y0,y1,z0,z1)\n",
    "    cote3 = distantfn(x0,x1,z0,z1)\n",
    "    return cote3 + cote2 + cote1\n"
   ]
  },
  {
   "cell_type": "code",
   "execution_count": 16,
   "id": "raised-diamond",
   "metadata": {},
   "outputs": [
    {
     "name": "stdout",
     "output_type": "stream",
     "text": [
      "1 - Evaluer un factoriel \n",
      "2 - Resoudre une equation de second dégré \n",
      "3 - quitter \n",
      "Votre choix : 2\n",
      "Entrer les coefficient de votre equation :\n",
      "a : 2\n",
      "b : 5\n",
      "c : 1\n",
      "Les solutions sont : 0.8768943743823394 9.123105625617661\n"
     ]
    }
   ],
   "source": [
    "#5\n",
    "def factoriel(n):\n",
    "    if(n == 1 or n == 0):\n",
    "        return 1\n",
    "    else:\n",
    "        return n*factoriel(n-1)\n",
    "    \n",
    "def equation(a,b,c):\n",
    "    discriminant = b*b - 4*a*c\n",
    "    \n",
    "    if(discriminant > 0):\n",
    "        print(\"Les solutions sont :\",(b - math.sqrt(discriminant)) / 2*a,\",\", (b + math.sqrt(discriminant)) / 2*a)\n",
    "    elif(discriminant == 0):\n",
    "        print (\"La solution est \",b / 2*a)\n",
    "    else:\n",
    "        print(\"L'equation n'a pas de solution dans R\")\n",
    "        \n",
    "\n",
    "def fact2nddeg():\n",
    "    print(\"1 - Evaluer un factoriel \")\n",
    "    print(\"2 - Resoudre une equation de second dégré \")\n",
    "    print(\"3 - quitter \")\n",
    "    \n",
    "    choix = int(input(\"Votre choix : \"))\n",
    "    \n",
    "    if(choix == 1):\n",
    "        n = int(input(\"Entrer un entier naturel : \"))\n",
    "        print(n,'! = ', factoriel(n))\n",
    "    \n",
    "    elif choix == 2:\n",
    "        print(\"Entrer les coefficient de votre equation :\")\n",
    "        a = int(input(\"a : \"))\n",
    "        b = int(input(\"b : \"))\n",
    "        c = int(input(\"c : \"))\n",
    "        equation(a,b,c)\n",
    "    else:\n",
    "        print(\"Bye\")\n",
    "    \n",
    "    \n",
    "fact2nddeg()\n"
   ]
  },
  {
   "cell_type": "code",
   "execution_count": 18,
   "id": "shaped-center",
   "metadata": {},
   "outputs": [
    {
     "data": {
      "text/plain": [
       "64"
      ]
     },
     "execution_count": 18,
     "metadata": {},
     "output_type": "execute_result"
    }
   ],
   "source": [
    "#9\n",
    "\n",
    "def power1(x,n):\n",
    "    \n",
    "    if n == 0:\n",
    "        return 1\n",
    "    else:\n",
    "        return x* power1(x,n-1)\n",
    "    \n",
    "power1(4,3)"
   ]
  },
  {
   "cell_type": "code",
   "execution_count": null,
   "id": "marked-afternoon",
   "metadata": {},
   "outputs": [],
   "source": []
  }
 ],
 "metadata": {
  "kernelspec": {
   "display_name": "Python 3",
   "language": "python",
   "name": "python3"
  },
  "language_info": {
   "codemirror_mode": {
    "name": "ipython",
    "version": 3
   },
   "file_extension": ".py",
   "mimetype": "text/x-python",
   "name": "python",
   "nbconvert_exporter": "python",
   "pygments_lexer": "ipython3",
   "version": "3.9.2"
  }
 },
 "nbformat": 4,
 "nbformat_minor": 5
}
