{
 "cells": [
  {
   "cell_type": "markdown",
   "id": "nutritional-supply",
   "metadata": {},
   "source": [
    "# Doing calculation the python way"
   ]
  },
  {
   "cell_type": "code",
   "execution_count": 17,
   "id": "spanish-fancy",
   "metadata": {},
   "outputs": [],
   "source": [
    "width = 17\n",
    "height = 12.0\n",
    "delimiter = '.'\n",
    "\n",
    "#width/2 = 8.5   type :(float)\n",
    "#width/2.0 = 8.5 type :(float)\n",
    "#height/3 = 4    type :(float)\n",
    "#1 + 2 * 5 = 11  type :(int)\n",
    "#delimiter * 5 donne: ..... type :(str)\n",
    "\n",
    "pi = 3.1415926535897931\n",
    "\n",
    "#Le volume de la sphère est égale à : 523.5987755982989\n",
    "    \n"
   ]
  },
  {
   "cell_type": "markdown",
   "id": "capital-arthur",
   "metadata": {},
   "source": [
    "# Knowing more about data types and their operations"
   ]
  },
  {
   "cell_type": "code",
   "execution_count": 58,
   "id": "front-dominant",
   "metadata": {},
   "outputs": [
    {
     "name": "stdout",
     "output_type": "stream",
     "text": [
      "<class 'int'>\n",
      "<class 'float'>\n"
     ]
    }
   ],
   "source": [
    "x = 1\n",
    "y = 5.0\n",
    "ch = \"ten\"\n",
    "\n",
    "#1)\n",
    "print(type(x))\n",
    "print(type(y))\n",
    "#2) Les pairs qui retournent une erreur pour l'opérateur +: \n",
    "    #iv) float-str\n",
    "    # Aucune surprise\n",
    "    \n",
    "#3) Les pairs qui retournent une erreur pour les opérateurs *, - ,%, /:\n",
    "    #iv) float-str\n",
    "    #v) str-str\n",
    "    \n",
    "    #Les pairs qui retournent une erreur pour les opérateurs *<, >, <=, >=, ==:\n",
    "        # #iv) float-str"
   ]
  },
  {
   "cell_type": "code",
   "execution_count": null,
   "id": "satisfied-distributor",
   "metadata": {},
   "outputs": [],
   "source": []
  }
 ],
 "metadata": {
  "kernelspec": {
   "display_name": "Python 3",
   "language": "python",
   "name": "python3"
  },
  "language_info": {
   "codemirror_mode": {
    "name": "ipython",
    "version": 3
   },
   "file_extension": ".py",
   "mimetype": "text/x-python",
   "name": "python",
   "nbconvert_exporter": "python",
   "pygments_lexer": "ipython3",
   "version": "3.9.2"
  }
 },
 "nbformat": 4,
 "nbformat_minor": 5
}
