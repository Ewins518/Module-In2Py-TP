{
 "cells": [
  {
   "cell_type": "markdown",
   "id": "nutritional-supply",
   "metadata": {},
   "source": [
    "# Doing calculation the python way"
   ]
  },
  {
   "cell_type": "code",
   "execution_count": 17,
   "id": "spanish-fancy",
   "metadata": {},
   "outputs": [],
   "source": [
    "width = 17\n",
    "height = 12.0\n",
    "delimiter = '.'\n",
    "\n",
    "#width/2 = 8.5   type :(float)\n",
    "#width/2.0 = 8.5 type :(float)\n",
    "#height/3 = 4    type :(float)\n",
    "#1 + 2 * 5 = 11  type :(int)\n",
    "#delimiter * 5 donne: ..... type :(str)\n",
    "\n",
    "pi = 3.1415926535897931\n",
    "\n",
    "#Le volume de la sphère est égale à : 523.5987755982989\n",
    "    \n"
   ]
  },
  {
   "cell_type": "markdown",
   "id": "capital-arthur",
   "metadata": {},
   "source": [
    "# Knowing more about data types and their operations"
   ]
  },
  {
   "cell_type": "code",
   "execution_count": 58,
   "id": "front-dominant",
   "metadata": {},
   "outputs": [
    {
     "name": "stdout",
     "output_type": "stream",
     "text": [
      "<class 'int'>\n",
      "<class 'float'>\n"
     ]
    }
   ],
   "source": [
    "x = 1\n",
    "y = 5.0\n",
    "ch = \"ten\"\n",
    "\n",
    "#1)\n",
    "print(type(x))\n",
    "print(type(y))\n",
    "#2) Les pairs qui retournent une erreur pour l'opérateur +: \n",
    "    #iv) float-str\n",
    "    # Aucune surprise\n",
    "    \n",
    "#3) Les pairs qui retournent une erreur pour les opérateurs *, - ,%, /:\n",
    "    #iv) float-str\n",
    "    #v) str-str\n",
    "    \n",
    "    #Les pairs qui retournent une erreur pour les opérateurs *<, >, <=, >=, ==:\n",
    "        # #iv) float-str"
   ]
  },
  {
   "cell_type": "code",
   "execution_count": 1,
   "id": "satisfied-distributor",
   "metadata": {},
   "outputs": [
    {
     "name": "stdout",
     "output_type": "stream",
     "text": [
      "16.366666666666667\n"
     ]
    }
   ],
   "source": [
    "romeo = {'SE':[18,16,14], 'SDA':[15,16,16],  'Langage C':[15,14,16], 'Uml':[15.75,16.25,18], 'Algèbre':[14,16,16], 'base de donné':[18,16,17], 'java':[16,18,16], 'Programmation systeme':[19,18,16], 'Web':[15,16,17], 'LTP':[18,16,18]}\n",
    "\n",
    "moyenne_par_matiere = [ (romeo['SE'][0] + romeo['SE'][1] + romeo['SE'][2])/3,  (romeo['Langage C'][0] + romeo['Langage C'][1] + romeo['Langage C'][2])/3 ,  (romeo['Uml'][0] + romeo['Uml'][1] + romeo['Uml'][2])/3,  (romeo['Algèbre'][0] + romeo['Algèbre'][1] + romeo['Algèbre'][2])/3,  (romeo['base de donné'][0] + romeo['base de donné'][1] + romeo['base de donné'][2])/3,  (romeo['Programmation systeme'][0] + romeo['Programmation systeme'][1] + romeo['Programmation systeme'][2])/3,  (romeo['java'][0] + romeo['java'][1] + romeo['java'][2])/3,  (romeo['Web'][0] + romeo['Web'][1] + romeo['Web'][2])/3,  (romeo['SE'][0] + romeo['SE'][1] + romeo['SE'][2])/3,  (romeo['LTP'][0] + romeo['LTP'][1] + romeo['LTP'][2])/3]\n",
    "\n",
    "moyenne = (moyenne_par_matiere[0] + moyenne_par_matiere[2] + moyenne_par_matiere[3] + moyenne_par_matiere[4] + moyenne_par_matiere[5] + moyenne_par_matiere[6] + moyenne_par_matiere[1] + moyenne_par_matiere[7] + moyenne_par_matiere[8] + moyenne_par_matiere[9] )/len(moyenne_par_matiere)\n",
    "\n",
    "print(moyenne)"
   ]
  },
  {
   "cell_type": "code",
   "execution_count": 2,
   "id": "consistent-intellectual",
   "metadata": {},
   "outputs": [
    {
     "name": "stdout",
     "output_type": "stream",
     "text": [
      "[12, 14, 16, 18, 20, 22, 24]\n",
      "[13, 15, 17, 19, 21, 23]\n",
      "[12, 13, 14, 16, 17, 18, 19, 20, 21, 22, 23, 24]\n"
     ]
    }
   ],
   "source": [
    "L =   [1,2,3,4,5,6,7,8,9,10]\n",
    "\n",
    "L[0] = L[0] + 11\n",
    "L[1] = L[1] + 11\n",
    "L[2] = L[2] + 11\n",
    "L[3] = L[3] + 11\n",
    "L[4] = L[4] + 11\n",
    "L[5] = L[5] + 11\n",
    "L[6] = L[6] + 11\n",
    "L[7] = L[7] + 11\n",
    "L[8] = L[8] + 11\n",
    "L[9] = L[9] + 11\n",
    "\n",
    "L.append(22)\n",
    "L.extend([23,24])\n",
    "\n",
    "L1 = L[0::2]\n",
    "print(L1)\n",
    "\n",
    "L2 = L[1::2]\n",
    "print(L2)\n",
    "\n",
    "del L[3]\n",
    "\n",
    "print(L)"
   ]
  },
  {
   "cell_type": "code",
   "execution_count": null,
   "id": "fleet-puppy",
   "metadata": {},
   "outputs": [],
   "source": []
  }
 ],
 "metadata": {
  "kernelspec": {
   "display_name": "Python 3",
   "language": "python",
   "name": "python3"
  },
  "language_info": {
   "codemirror_mode": {
    "name": "ipython",
    "version": 3
   },
   "file_extension": ".py",
   "mimetype": "text/x-python",
   "name": "python",
   "nbconvert_exporter": "python",
   "pygments_lexer": "ipython3",
   "version": "3.9.2"
  }
 },
 "nbformat": 4,
 "nbformat_minor": 5
}
