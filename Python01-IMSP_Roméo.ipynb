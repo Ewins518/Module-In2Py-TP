{
 "cells": [
  {
   "cell_type": "code",
   "execution_count": 7,
   "id": "defined-gospel",
   "metadata": {},
   "outputs": [
    {
     "name": "stdout",
     "output_type": "stream",
     "text": [
      "Entrer un nombre :2\n",
      "La somme cherchée donne  4\n"
     ]
    }
   ],
   "source": [
    "#1-a\n",
    "n = input(\"Entrer un nombre :\")\n",
    "somme = 0\n",
    "\n",
    "for i in range(int(n)):\n",
    "    if i%2:\n",
    "        somme += i + 3\n",
    "print(\"La somme cherchée donne \",somme)\n",
    "\n"
   ]
  },
  {
   "cell_type": "code",
   "execution_count": 9,
   "id": "chinese-bumper",
   "metadata": {},
   "outputs": [
    {
     "name": "stdout",
     "output_type": "stream",
     "text": [
      "Entrer un nombre :2\n",
      "La produit cherché donne  3\n"
     ]
    }
   ],
   "source": [
    "#1-b\n",
    "n = input(\"Entrer un nombre :\")\n",
    "produit= 1\n",
    "\n",
    "for i in range(int(n)):\n",
    "    if i%2 == 0:\n",
    "        produit *= i + 3  \n",
    "print(\"La produit cherché donne \",produit)"
   ]
  },
  {
   "cell_type": "code",
   "execution_count": 10,
   "id": "young-pulse",
   "metadata": {},
   "outputs": [
    {
     "name": "stdout",
     "output_type": "stream",
     "text": [
      "Lundi\n",
      "Mardi\n",
      "Mercredi\n",
      "Jeudi\n",
      "vendredi\n",
      "Weekend\n",
      "Weekend\n"
     ]
    }
   ],
   "source": [
    "#2\n",
    "jour = ['Lundi','Mardi','Mercredi','Jeudi','vendredi','Samedi','Dimanche']\n",
    "\n",
    "for i in range(7):\n",
    "    if(i <= 4):\n",
    "        print(jour[i])\n",
    "    else:\n",
    "        print(\"Weekend\")"
   ]
  },
  {
   "cell_type": "code",
   "execution_count": 20,
   "id": "biblical-variety",
   "metadata": {},
   "outputs": [
    {
     "name": "stdout",
     "output_type": "stream",
     "text": [
      "31\n",
      "28\n",
      "31\n",
      "30\n",
      "31\n",
      "30\n",
      "31\n",
      "31\n",
      "30\n",
      "31\n",
      "30\n",
      "31\n"
     ]
    }
   ],
   "source": [
    "#3\n",
    "\n",
    "for i in range(12):\n",
    "    if i < 8 and (i%2 == 0 or i == 7) :\n",
    "        print('31')\n",
    "    elif i == 1:\n",
    "        print('28')\n",
    "    elif i == 11 or i == 9:\n",
    "        print('31')\n",
    "    else:\n",
    "        print('30')"
   ]
  },
  {
   "cell_type": "code",
   "execution_count": 21,
   "id": "numeric-arena",
   "metadata": {},
   "outputs": [
    {
     "name": "stdout",
     "output_type": "stream",
     "text": [
      "Roméo\n",
      "Roméo\n",
      "Roméo\n"
     ]
    }
   ],
   "source": [
    "#4-a\n",
    "\n",
    "for i in range(3):\n",
    "    print(\"Roméo\")\n",
    "      "
   ]
  },
  {
   "cell_type": "code",
   "execution_count": 22,
   "id": "sophisticated-facing",
   "metadata": {},
   "outputs": [
    {
     "name": "stdout",
     "output_type": "stream",
     "text": [
      "Roméo\n",
      "Roméo\n",
      "Roméo\n"
     ]
    }
   ],
   "source": [
    "#4-b\n",
    "\n",
    "i = 0\n",
    "\n",
    "while(i < 3):\n",
    "    print(\"Roméo\")\n",
    "    i +=1    \n",
    "    "
   ]
  },
  {
   "cell_type": "code",
   "execution_count": 28,
   "id": "generous-scientist",
   "metadata": {},
   "outputs": [
    {
     "name": "stdout",
     "output_type": "stream",
     "text": [
      "Entrer le premier nombre : 0\n",
      "Entrer le deuxième nombre : 1\n",
      "1\n",
      "2\n",
      "3\n",
      "5\n",
      "8\n",
      "13\n",
      "21\n",
      "34\n",
      "55\n",
      "89\n",
      "144\n",
      "233\n",
      "377\n",
      "610\n",
      "987\n",
      "1597\n"
     ]
    }
   ],
   "source": [
    "#5\n",
    "\n",
    "fib0 = input(\"Entrer le premier nombre : \" )\n",
    "fib1 = input(\"Entrer le deuxième nombre : \" )\n",
    "fib = 0\n",
    "\n",
    "fib0 = int(fib0)\n",
    "fib1= int(fib1)\n",
    "\n",
    "for i in range(16):\n",
    "    fib = fib0 + fib1\n",
    "    fib0 = fib1\n",
    "    fib1 = fib\n",
    "    print(fib)\n",
    "    "
   ]
  },
  {
   "cell_type": "code",
   "execution_count": 30,
   "id": "aboriginal-thumb",
   "metadata": {},
   "outputs": [
    {
     "name": "stdout",
     "output_type": "stream",
     "text": [
      "0.5\n",
      "3.25\n",
      "3.125\n",
      "11.3125\n",
      "15.03125\n",
      "41.453125\n",
      "65.8203125\n",
      "157.26953125\n",
      "276.095703125\n",
      "609.8564453125\n",
      "1133.21533203125\n",
      "2396.177001953125\n",
      "4597.7344970703125\n",
      "9487.398254394531\n",
      "18536.902618408203\n",
      "37730.646072387695\n",
      "74476.03089141846\n",
      "150429.9536628723\n",
      "298643.0695056915\n",
      "600611.3957414627\n",
      "1196234.906387806\n",
      "2399951.640418291\n",
      "4788680.539372563\n",
      "9594195.190941155\n",
      "19163139.213588268\n",
      "38364155.1796176\n",
      "76671495.2305736\n",
      "153428213.15413958\n",
      "306728592.2687906\n",
      "613648935.596814\n",
      "1227010244.6047788\n"
     ]
    }
   ],
   "source": [
    "#6\n",
    "\n",
    "x0 = 0\n",
    "x1 = 1\n",
    "x2 = 0\n",
    "\n",
    "for i in range(31):\n",
    "    x2 = (x1 + 6*x0)/2\n",
    "    x0 = x1\n",
    "    x1 = x2\n",
    "    print(x2)"
   ]
  },
  {
   "cell_type": "code",
   "execution_count": 40,
   "id": "enhanced-article",
   "metadata": {},
   "outputs": [
    {
     "name": "stdout",
     "output_type": "stream",
     "text": [
      "2010\n",
      "2010  n'est pas une année bissextile \n"
     ]
    }
   ],
   "source": [
    "#7\n",
    "\n",
    "annee = input()\n",
    "\n",
    "annee = int(annee)\n",
    "\n",
    "if(2000 - annee)%4 == 0:\n",
    "    print(annee,\" est une année bissextile \")\n",
    "else:\n",
    "    print(annee,\" n'est pas une année bissextile \")"
   ]
  },
  {
   "cell_type": "code",
   "execution_count": 41,
   "id": "tamil-longitude",
   "metadata": {},
   "outputs": [
    {
     "name": "stdout",
     "output_type": "stream",
     "text": [
      "Entrer un nombre :3\n",
      "La somme cherchée donne  1\n"
     ]
    }
   ],
   "source": [
    "#8-a\n",
    "\n",
    "n = input(\"Entrer un nombre :\")\n",
    "somme = 0\n",
    "\n",
    "for i in range(int(n)):\n",
    "    if i%2:\n",
    "        somme += i*i\n",
    "print(\"La somme cherchée donne \",somme)\n",
    "\n"
   ]
  },
  {
   "cell_type": "code",
   "execution_count": null,
   "id": "constant-mustang",
   "metadata": {},
   "outputs": [],
   "source": []
  }
 ],
 "metadata": {
  "kernelspec": {
   "display_name": "Python 3",
   "language": "python",
   "name": "python3"
  },
  "language_info": {
   "codemirror_mode": {
    "name": "ipython",
    "version": 3
   },
   "file_extension": ".py",
   "mimetype": "text/x-python",
   "name": "python",
   "nbconvert_exporter": "python",
   "pygments_lexer": "ipython3",
   "version": "3.9.2"
  }
 },
 "nbformat": 4,
 "nbformat_minor": 5
}
