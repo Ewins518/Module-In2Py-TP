{
 "cells": [
  {
   "cell_type": "code",
   "execution_count": 7,
   "id": "published-briefing",
   "metadata": {},
   "outputs": [
    {
     "name": "stdout",
     "output_type": "stream",
     "text": [
      "Entrer un nombre :2\n",
      "La somme cherchée donne  4\n"
     ]
    }
   ],
   "source": [
    "#1-a\n",
    "n = input(\"Entrer un nombre :\")\n",
    "somme = 0\n",
    "\n",
    "for i in range(int(n)):\n",
    "    if i%2:\n",
    "        somme += i + 3\n",
    "print(\"La somme cherchée donne \",somme)\n",
    "\n"
   ]
  },
  {
   "cell_type": "code",
   "execution_count": 9,
   "id": "broadband-prophet",
   "metadata": {},
   "outputs": [
    {
     "name": "stdout",
     "output_type": "stream",
     "text": [
      "Entrer un nombre :2\n",
      "La produit cherché donne  3\n"
     ]
    }
   ],
   "source": [
    "#1-b\n",
    "n = input(\"Entrer un nombre :\")\n",
    "produit= 1\n",
    "\n",
    "for i in range(int(n)):\n",
    "    if i%2 == 0:\n",
    "        produit *= i + 3  \n",
    "print(\"La produit cherché donne \",produit)"
   ]
  },
  {
   "cell_type": "code",
   "execution_count": 10,
   "id": "soviet-wheel",
   "metadata": {},
   "outputs": [
    {
     "name": "stdout",
     "output_type": "stream",
     "text": [
      "Lundi\n",
      "Mardi\n",
      "Mercredi\n",
      "Jeudi\n",
      "vendredi\n",
      "Weekend\n",
      "Weekend\n"
     ]
    }
   ],
   "source": [
    "#2\n",
    "jour = ['Lundi','Mardi','Mercredi','Jeudi','vendredi','Samedi','Dimanche']\n",
    "\n",
    "for i in range(7):\n",
    "    if(i <= 4):\n",
    "        print(jour[i])\n",
    "    else:\n",
    "        print(\"Weekend\")"
   ]
  },
  {
   "cell_type": "code",
   "execution_count": 20,
   "id": "higher-counter",
   "metadata": {},
   "outputs": [
    {
     "name": "stdout",
     "output_type": "stream",
     "text": [
      "31\n",
      "28\n",
      "31\n",
      "30\n",
      "31\n",
      "30\n",
      "31\n",
      "31\n",
      "30\n",
      "31\n",
      "30\n",
      "31\n"
     ]
    }
   ],
   "source": [
    "#3\n",
    "\n",
    "for i in range(12):\n",
    "    if i < 8 and (i%2 == 0 or i == 7) :\n",
    "        print('31')\n",
    "    elif i == 1:\n",
    "        print('28')\n",
    "    elif i == 11 or i == 9:\n",
    "        print('31')\n",
    "    else:\n",
    "        print('30')"
   ]
  },
  {
   "cell_type": "code",
   "execution_count": 21,
   "id": "removed-brass",
   "metadata": {},
   "outputs": [
    {
     "name": "stdout",
     "output_type": "stream",
     "text": [
      "Roméo\n",
      "Roméo\n",
      "Roméo\n"
     ]
    }
   ],
   "source": [
    "#4-a\n",
    "\n",
    "for i in range(3):\n",
    "    print(\"Roméo\")\n",
    "      "
   ]
  },
  {
   "cell_type": "code",
   "execution_count": 22,
   "id": "funny-enzyme",
   "metadata": {},
   "outputs": [
    {
     "name": "stdout",
     "output_type": "stream",
     "text": [
      "Roméo\n",
      "Roméo\n",
      "Roméo\n"
     ]
    }
   ],
   "source": [
    "#4-b\n",
    "\n",
    "i = 0\n",
    "\n",
    "while(i < 3):\n",
    "    print(\"Roméo\")\n",
    "    i +=1    \n",
    "    "
   ]
  },
  {
   "cell_type": "code",
   "execution_count": 28,
   "id": "starting-startup",
   "metadata": {},
   "outputs": [
    {
     "name": "stdout",
     "output_type": "stream",
     "text": [
      "Entrer le premier nombre : 0\n",
      "Entrer le deuxième nombre : 1\n",
      "1\n",
      "2\n",
      "3\n",
      "5\n",
      "8\n",
      "13\n",
      "21\n",
      "34\n",
      "55\n",
      "89\n",
      "144\n",
      "233\n",
      "377\n",
      "610\n",
      "987\n",
      "1597\n"
     ]
    }
   ],
   "source": [
    "#5\n",
    "\n",
    "fib0 = input(\"Entrer le premier nombre : \" )\n",
    "fib1 = input(\"Entrer le deuxième nombre : \" )\n",
    "fib = 0\n",
    "\n",
    "fib0 = int(fib0)\n",
    "fib1= int(fib1)\n",
    "\n",
    "for i in range(16):\n",
    "    fib = fib0 + fib1\n",
    "    fib0 = fib1\n",
    "    fib1 = fib\n",
    "    print(fib)\n",
    "    "
   ]
  },
  {
   "cell_type": "code",
   "execution_count": 30,
   "id": "earlier-civilian",
   "metadata": {},
   "outputs": [
    {
     "name": "stdout",
     "output_type": "stream",
     "text": [
      "0.5\n",
      "3.25\n",
      "3.125\n",
      "11.3125\n",
      "15.03125\n",
      "41.453125\n",
      "65.8203125\n",
      "157.26953125\n",
      "276.095703125\n",
      "609.8564453125\n",
      "1133.21533203125\n",
      "2396.177001953125\n",
      "4597.7344970703125\n",
      "9487.398254394531\n",
      "18536.902618408203\n",
      "37730.646072387695\n",
      "74476.03089141846\n",
      "150429.9536628723\n",
      "298643.0695056915\n",
      "600611.3957414627\n",
      "1196234.906387806\n",
      "2399951.640418291\n",
      "4788680.539372563\n",
      "9594195.190941155\n",
      "19163139.213588268\n",
      "38364155.1796176\n",
      "76671495.2305736\n",
      "153428213.15413958\n",
      "306728592.2687906\n",
      "613648935.596814\n",
      "1227010244.6047788\n"
     ]
    }
   ],
   "source": [
    "#6\n",
    "\n",
    "x0 = 0\n",
    "x1 = 1\n",
    "x2 = 0\n",
    "\n",
    "for i in range(31):\n",
    "    x2 = (x1 + 6*x0)/2\n",
    "    x0 = x1\n",
    "    x1 = x2\n",
    "    print(x2)"
   ]
  },
  {
   "cell_type": "code",
   "execution_count": 46,
   "id": "korean-laser",
   "metadata": {},
   "outputs": [
    {
     "name": "stdout",
     "output_type": "stream",
     "text": [
      "2000\n",
      "2000  est une année bissextile \n"
     ]
    }
   ],
   "source": [
    "#7\n",
    "\n",
    "annee = input()\n",
    "\n",
    "annee = int(annee)\n",
    "\n",
    "if (annee% 4 ==0 and annee % 100 != 0) or (annee % 400 == 0):\n",
    "    print(annee,\" est une année bissextile \")\n",
    "else:\n",
    "    print(annee,\" n'est pas une année bissextile \")"
   ]
  },
  {
   "cell_type": "code",
   "execution_count": 2,
   "id": "under-religion",
   "metadata": {},
   "outputs": [
    {
     "name": "stdout",
     "output_type": "stream",
     "text": [
      "Entrer un nombre :3\n",
      "La somme cherchée donne  14\n"
     ]
    }
   ],
   "source": [
    "#8-a\n",
    "\n",
    "n = input(\"Entrer un nombre :\")\n",
    "somme = 0\n",
    "\n",
    "for i in range(int(n)+1):\n",
    "    somme += i*i\n",
    "print(\"La somme cherchée donne \",somme)\n"
   ]
  },
  {
   "cell_type": "code",
   "execution_count": 4,
   "id": "royal-mentor",
   "metadata": {},
   "outputs": [
    {
     "name": "stdout",
     "output_type": "stream",
     "text": [
      "Entrer un nombre :3\n",
      "La somme cherchée donne  14\n"
     ]
    }
   ],
   "source": [
    "#8-a\n",
    "\n",
    "n = input(\"Entrer un nombre :\")\n",
    "somme = 0\n",
    "i = 1\n",
    "\n",
    "while (i < int(n)+1):\n",
    "    somme += i*i\n",
    "    i += 1\n",
    "print(\"La somme cherchée donne \",somme)\n"
   ]
  },
  {
   "cell_type": "code",
   "execution_count": null,
   "id": "personalized-simple",
   "metadata": {},
   "outputs": [],
   "source": [
    "#8-6"
   ]
  },
  {
   "cell_type": "code",
   "execution_count": 8,
   "id": "phantom-sleeve",
   "metadata": {},
   "outputs": [
    {
     "name": "stdout",
     "output_type": "stream",
     "text": [
      "Entrer un nombre :5\n",
      "1\n"
     ]
    }
   ],
   "source": [
    "#9-a\n",
    "n = input(\"Entrer un nombre :\")\n",
    "n = int(n)\n",
    "for i in range(1,n):\n",
    "    if(n%i == 0):\n",
    "        print(i)"
   ]
  },
  {
   "cell_type": "code",
   "execution_count": 5,
   "id": "conditional-burlington",
   "metadata": {},
   "outputs": [
    {
     "name": "stdout",
     "output_type": "stream",
     "text": [
      "Entrer un nombre : 3\n",
      "1 x 3 = 3\n",
      "2 x 3 = 6\n",
      "3 x 3 = 9\n",
      "4 x 3 = 12\n",
      "5 x 3 = 15\n",
      "6 x 3 = 18\n",
      "7 x 3 = 21\n",
      "8 x 3 = 24\n",
      "9 x 3 = 27\n",
      "10 x 3 = 30\n",
      "11 x 3 = 33\n",
      "12 x 3 = 36\n",
      "13 x 3 = 39\n",
      "14 x 3 = 42\n",
      "15 x 3 = 45\n",
      "16 x 3 = 48\n",
      "17 x 3 = 51\n",
      "18 x 3 = 54\n",
      "19 x 3 = 57\n",
      "20 x 3 = 60\n"
     ]
    }
   ],
   "source": [
    "#10\n",
    "mul = input(\"Entrer un nombre : \")\n",
    "\n",
    "mul = int(mul)\n",
    "n = 1\n",
    "while n <=20 :\n",
    "    v=n*mul\n",
    "    print(n, 'x', mul, '=', v, sep =' ')\n",
    "    n = n +1"
   ]
  },
  {
   "cell_type": "code",
   "execution_count": 9,
   "id": "listed-revision",
   "metadata": {},
   "outputs": [
    {
     "name": "stdout",
     "output_type": "stream",
     "text": [
      "0\n",
      "3\n",
      "6\n",
      "7\n",
      "9\n",
      "11\n",
      "12\n",
      "14\n",
      "15\n",
      "18\n",
      "21\n",
      "22\n",
      "24\n",
      "27\n",
      "28\n",
      "30\n",
      "33\n",
      "35\n",
      "36\n",
      "39\n"
     ]
    }
   ],
   "source": [
    "#11\n",
    "\n",
    "for i in range(40):\n",
    "    if i%3 == 0 or i%7 == 0 or i%11 == 0:\n",
    "        print(i)"
   ]
  },
  {
   "cell_type": "code",
   "execution_count": null,
   "id": "polyphonic-murder",
   "metadata": {},
   "outputs": [],
   "source": []
  }
 ],
 "metadata": {
  "kernelspec": {
   "display_name": "Python 3",
   "language": "python",
   "name": "python3"
  },
  "language_info": {
   "codemirror_mode": {
    "name": "ipython",
    "version": 3
   },
   "file_extension": ".py",
   "mimetype": "text/x-python",
   "name": "python",
   "nbconvert_exporter": "python",
   "pygments_lexer": "ipython3",
   "version": "3.9.2"
  }
 },
 "nbformat": 4,
 "nbformat_minor": 5
}
