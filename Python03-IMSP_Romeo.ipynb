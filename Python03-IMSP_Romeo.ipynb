{
 "cells": [
  {
   "cell_type": "code",
   "execution_count": 7,
   "id": "smoking-assurance",
   "metadata": {},
   "outputs": [
    {
     "name": "stdout",
     "output_type": "stream",
     "text": [
      "abceggjknrvvz\n"
     ]
    }
   ],
   "source": [
    "def M(ch1, ch2):\n",
    "    ch3 = ''.join(sorted(ch1 + ch2))\n",
    "    return ch3\n",
    "\n",
    "def S(ch):\n",
    "    return M(ch, '')\n",
    "\n",
    "def Mvers2(ch1, ch2):\n",
    "    return M(ch1,''),M(ch1,ch2)\n",
    "\n",
    "Mvers2('czjkvnv', 'aggerb')\n",
    "\n",
    "print(Mvers2('czjkvnv', 'aggerb')[1])"
   ]
  },
  {
   "cell_type": "code",
   "execution_count": 4,
   "id": "biblical-variation",
   "metadata": {},
   "outputs": [],
   "source": [
    "#e-i,ii,iii\n",
    "\n",
    "def firstvowel( ch ):\n",
    "    for i in ch:\n",
    "        if i in \"AEOUIYaeoiuy\":\n",
    "            return i;\n",
    "    return 0;\n",
    "\n",
    "\n",
    "def isVowel(ch):\n",
    "    if ch in \"AEOUIYaeoiuy\":\n",
    "        return True;\n",
    "    else:\n",
    "        return False\n",
    "    \n",
    "def countVowel(ch):\n",
    "    nbre = 0\n",
    "    for i in ch:\n",
    "        if isVowel(i) == True:\n",
    "            nbre += 1\n",
    "    return nbre\n",
    "\n",
    "def upperCase():\n",
    "    i = 1\n",
    "    while(i):\n",
    "        ch = input(\"Entrer une lettre : (Entrer un chiffre pour quitter) : \")\n",
    "        if ch in \"0123456789\":\n",
    "            i = 0\n",
    "        else:\n",
    "             print(\"En majuscule, ça donne : \", ch.upper())\n",
    "        "
   ]
  },
  {
   "cell_type": "code",
   "execution_count": 6,
   "id": "helpful-jimmy",
   "metadata": {},
   "outputs": [
    {
     "name": "stdout",
     "output_type": "stream",
     "text": [
      "Entrer une lettre : 125\n",
      "En majuscule, ça donne :  125\n",
      "Entrer une lettre : a\n",
      "En majuscule, ça donne :  A\n",
      "Entrer une lettre : 2\n"
     ]
    }
   ],
   "source": [
    "upperCase()"
   ]
  },
  {
   "cell_type": "code",
   "execution_count": 4,
   "id": "experimental-wellington",
   "metadata": {},
   "outputs": [],
   "source": [
    "#e-iv\n",
    "\n",
    "def countVowels():\n",
    "    ch = input(\"Entrer une phrase : \")\n",
    "    ch = ch.upper()\n",
    "    \n",
    "    for i in 'AEOIUY' :\n",
    "        if i in ch:\n",
    "            print(i, \" appait \", ch.count(i), ' fois')\n",
    "    "
   ]
  },
  {
   "cell_type": "code",
   "execution_count": 5,
   "id": "square-worth",
   "metadata": {},
   "outputs": [
    {
     "name": "stdout",
     "output_type": "stream",
     "text": [
      "Entrer une phrase : je suis a l'ecole bro\n",
      "A  appait  1  fois\n",
      "E  appait  3  fois\n",
      "O  appait  2  fois\n",
      "I  appait  1  fois\n",
      "U  appait  1  fois\n"
     ]
    }
   ],
   "source": [
    "countVowels()"
   ]
  },
  {
   "cell_type": "code",
   "execution_count": 13,
   "id": "communist-woman",
   "metadata": {},
   "outputs": [],
   "source": [
    "#e-v\n",
    "def bc():\n",
    "    ch = input(\"Entrer une phrase : \")\n",
    "    \n",
    "    b = ch.count('b')\n",
    "    c = ch.count('c')\n",
    "    \n",
    "    if( b > c):\n",
    "        print(\"b > c\")\n",
    "    elif ( b < c):\n",
    "        print(\"b < c\")\n",
    "    else:\n",
    "        print(\" b = c\")\n",
    "    \n"
   ]
  },
  {
   "cell_type": "code",
   "execution_count": 1,
   "id": "specialized-european",
   "metadata": {},
   "outputs": [],
   "source": [
    "#e-iv\n",
    "\n",
    "def capitalLetter():\n",
    "    \n",
    "    ch = input(\"Entrer une phrase : \") \n",
    "    ch2 = ' '\n",
    "    ch1 = ch.split( )\n",
    "    for i in range(len(ch1)):\n",
    "        ch1[i] = ch1[i].capitalize()\n",
    "        ch2 += ch1[i] + ' '\n",
    "    print(ch2) \n",
    "    "
   ]
  },
  {
   "cell_type": "code",
   "execution_count": 3,
   "id": "democratic-speed",
   "metadata": {},
   "outputs": [
    {
     "name": "stdout",
     "output_type": "stream",
     "text": [
      "Entrer une phrase : je suis a l'ecoel\n",
      " Je Suis A L'ecoel \n"
     ]
    }
   ],
   "source": [
    "capitalLetter()"
   ]
  },
  {
   "cell_type": "code",
   "execution_count": 10,
   "id": "pleasant-professional",
   "metadata": {},
   "outputs": [],
   "source": [
    "#e - vii\n",
    "\n",
    "def palindrome():\n",
    "    ch = input(\"Entrer une phrase : \") \n",
    "    if ch[::-1] == ch:\n",
    "        print(ch, \" est un palindrome\")\n",
    "    else:\n",
    "        print(ch , \" n'est pas un palindrome\")"
   ]
  },
  {
   "cell_type": "code",
   "execution_count": 18,
   "id": "ultimate-swimming",
   "metadata": {},
   "outputs": [],
   "source": [
    "#e - viii\n",
    "\n",
    "def textWord():\n",
    "    texte = input(\"Entrer du texte : \")\n",
    "    mot = input(\"Entrer un mot : \")\n",
    "    \n",
    "    print('Le mot ',mot, ' apparait ' , texte.count(mot), ' fois dans le texte ')"
   ]
  },
  {
   "cell_type": "code",
   "execution_count": 23,
   "id": "composed-bridge",
   "metadata": {},
   "outputs": [],
   "source": [
    "#f\n",
    "\n",
    "def gymnast():\n",
    "    scores = tuple(range(1,11))\n",
    "    \n",
    "    print(\"The lowest possible score is\",scores[0], \"and the highest possible score is \",scores[9])\n",
    "    print()\n",
    "    \n",
    "    for i in scores :\n",
    "        if i == 1:\n",
    "            print(\"A judge can give a gymnast \",i,\" point.\")\n",
    "        else:\n",
    "            print(\"A judge can give a gymnast \",i,\" points.\")\n",
    "            "
   ]
  },
  {
   "cell_type": "code",
   "execution_count": 24,
   "id": "administrative-decision",
   "metadata": {},
   "outputs": [
    {
     "name": "stdout",
     "output_type": "stream",
     "text": [
      "The lowest possible score is 1 and the highest possible score is  10\n",
      "A judge can give a gymnast  1  point.\n",
      "A judge can give a gymnast  2  points.\n",
      "A judge can give a gymnast  3  points.\n",
      "A judge can give a gymnast  4  points.\n",
      "A judge can give a gymnast  5  points.\n",
      "A judge can give a gymnast  6  points.\n",
      "A judge can give a gymnast  7  points.\n",
      "A judge can give a gymnast  8  points.\n",
      "A judge can give a gymnast  9  points.\n",
      "A judge can give a gymnast  10  points.\n"
     ]
    }
   ],
   "source": [
    "gymnast()"
   ]
  },
  {
   "cell_type": "code",
   "execution_count": null,
   "id": "identical-booking",
   "metadata": {},
   "outputs": [],
   "source": []
  }
 ],
 "metadata": {
  "kernelspec": {
   "display_name": "Python 3",
   "language": "python",
   "name": "python3"
  },
  "language_info": {
   "codemirror_mode": {
    "name": "ipython",
    "version": 3
   },
   "file_extension": ".py",
   "mimetype": "text/x-python",
   "name": "python",
   "nbconvert_exporter": "python",
   "pygments_lexer": "ipython3",
   "version": "3.9.2"
  }
 },
 "nbformat": 4,
 "nbformat_minor": 5
}
