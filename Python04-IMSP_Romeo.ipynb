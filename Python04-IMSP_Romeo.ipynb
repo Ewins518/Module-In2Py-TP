{
 "cells": [
  {
   "cell_type": "code",
   "execution_count": null,
   "id": "phantom-following",
   "metadata": {},
   "outputs": [],
   "source": []
  },
  {
   "cell_type": "code",
   "execution_count": 15,
   "id": "accessory-canyon",
   "metadata": {},
   "outputs": [],
   "source": [
    "def addProd(gestionProduit):\n",
    "    produit = input(\"Entrer le nom du produit : \")\n",
    "    prix = int(input(\"Entrer le prix du produit : \"))\n",
    "    \n",
    "    gestionProduit[produit] = prix;\n",
    "    \n",
    "    return gestionProduit\n",
    "\n",
    "def modProd(gestionProduit):\n",
    "    produit = input(\"Entrer le nom du produit à modifier : \")\n",
    "    for i in gestionProduit:\n",
    "        if i == produit:\n",
    "            prix = int(input(\"Entrer le nouveau prix du produit : \"))\n",
    "            gestionProduit[produit] = prix;\n",
    "            return gestionProduit\n",
    "        \n",
    "    print(\"Ce produit n'est pas disponible en stock\")\n",
    "\n",
    "def printProd(listProd):\n",
    "    print(\"Les produits disponible sont : \")\n",
    "    for i in listProd:\n",
    "        print(i, \" => \", listProd[i],\"FCFA\")\n",
    "\n",
    "gestionProduit = {'Mangue':1000}\n",
    "\n",
    "addProd(gestionProduit)\n",
    "addProd(gestionProduit)\n",
    "modProd(gestionProduit)\n",
    "\n",
    "printProd(gestionProduit)"
   ]
  },
  {
   "cell_type": "code",
   "execution_count": 16,
   "id": "bored-socket",
   "metadata": {},
   "outputs": [],
   "source": [
    "def addTel(gestionTel):\n",
    "    name = input(\"Entrer le nom du proprietaire : \")\n",
    "    num = int(input(\"Entrer le numéro de telephone : \"))\n",
    "    \n",
    "    gestionTel[name] = num;\n",
    "    \n",
    "    return gestionTel\n",
    "\n",
    "def searchTel(gestionTel):\n",
    "    name = input(\"Entrer le nom dont on cherche le numero: \")\n",
    "    trouver = 0\n",
    "    for i in gestionTel:\n",
    "        if i == name:\n",
    "            print(\"Le numero de telephone de \", name, \" est \", gestionTel[name])\n",
    "            trouver = 1\n",
    "            break\n",
    "    if trouver == 0:\n",
    "        print ( \"Ce client n'a pas de numéro dans la base \")\n",
    "    \n",
    "def searchName(gestionTel):\n",
    "    tel = int(input(\"Entrer le numero dont on cherche le proprietaire: \"))\n",
    "    trouver = 0\n",
    "    for i in gestionTel:\n",
    "        if gestionTel[i] == tel:\n",
    "            print(\"Le numero de telephone \", gestionTel[i] , \" appartient à \", i)\n",
    "            trouver = 1\n",
    "            break\n",
    "    if trouver == 0:\n",
    "        print ( \"Ce numéro n'a pas de propriétaire \")\n",
    "            \n",
    "        \n",
    "\n",
    "def printTel(listTel):\n",
    "    print(\"La liste des numéro et leur propriétaires disponible est : \")\n",
    "    for i in listTel:\n",
    "        print(i, \" => \", listTel[i])\n",
    "\n",
    "gestionTel = {'Roméo':5669}\n",
    "\n",
    "\n",
    "gestionTel = addTel(gestionTel)\n",
    "printTel(gestionTel)"
   ]
  },
  {
   "cell_type": "code",
   "execution_count": 14,
   "id": "dutch-swing",
   "metadata": {},
   "outputs": [
    {
     "data": {
      "text/plain": [
       "[4, 7, 6]"
      ]
     },
     "execution_count": 14,
     "metadata": {},
     "output_type": "execute_result"
    }
   ],
   "source": [
    "#3\n",
    "def Wordlengths(ListMot):\n",
    "    ListLen = [len(x) for x in ListMot]\n",
    "    return ListLen\n",
    "\n",
    "ListMot = [\"jean\", \"jacques\", \"kvbppo\"]\n",
    "ListLen = Wordlengths(ListMot)\n",
    "ListLen"
   ]
  },
  {
   "cell_type": "code",
   "execution_count": 11,
   "id": "ready-classic",
   "metadata": {},
   "outputs": [
    {
     "data": {
      "text/plain": [
       "11"
      ]
     },
     "execution_count": 11,
     "metadata": {},
     "output_type": "execute_result"
    }
   ],
   "source": [
    "#4\n",
    "\n",
    "def find_longest_word(ListWord):\n",
    "    Max = 0\n",
    "    for i in range(len(ListWord)):\n",
    "        if len(ListWord[i]) > Max:\n",
    "            Max = len(ListWord[i])\n",
    "    return Max\n",
    "        \n",
    "\n",
    "ListWord = [\"Jean\",\" HUgues\", \"Absolumente\"]\n",
    "find_longest_word(ListWord)"
   ]
  },
  {
   "cell_type": "code",
   "execution_count": 12,
   "id": "innocent-lambda",
   "metadata": {},
   "outputs": [
    {
     "data": {
      "text/plain": [
       "['god', 'och']"
      ]
     },
     "execution_count": 12,
     "metadata": {},
     "output_type": "execute_result"
    }
   ],
   "source": [
    "#5\n",
    "\n",
    "def translate(English):\n",
    "    Bilingue = {\"merry\":\"god\", \"christmas\":\"jul\", \"and\":\"och\", \"happy\":\"gott\", \"new\":\"nytt\", \"year\":\"ar\"}\n",
    "    swedish = []\n",
    "    for i  in English:\n",
    "        if i in Bilingue.keys():\n",
    "            swedish.append(Bilingue[i])\n",
    "    return swedish\n",
    "\n",
    "translate([\"merry\",\"and\"])"
   ]
  },
  {
   "cell_type": "code",
   "execution_count": 17,
   "id": "proper-fairy",
   "metadata": {},
   "outputs": [
    {
     "data": {
      "text/plain": [
       "True"
      ]
     },
     "execution_count": 17,
     "metadata": {},
     "output_type": "execute_result"
    }
   ],
   "source": [
    "#6\n",
    "\n",
    "def is_member(value, ListValues):\n",
    "    i = 0\n",
    "    while (i < len(ListValues)):\n",
    "        if ListValues[i] == value:\n",
    "            return True\n",
    "        else:\n",
    "            i += 1\n",
    "            \n",
    "    return False\n",
    "\n",
    "ListValues = [\"Roméo\", 8,\"zac\",\"Albert\", 78]\n",
    "\n",
    "is_member(\"Roméo\",ListValues)"
   ]
  },
  {
   "cell_type": "code",
   "execution_count": 36,
   "id": "inside-collect",
   "metadata": {},
   "outputs": [
    {
     "name": "stdout",
     "output_type": "stream",
     "text": [
      "****\n",
      "********\n",
      "******\n"
     ]
    }
   ],
   "source": [
    "#7\n",
    "\n",
    "def histogram(ListInt):\n",
    "    for i in ListInt:\n",
    "        print(\"*\" * i)\n",
    "        \n",
    "histogram([4,8,6])"
   ]
  },
  {
   "cell_type": "code",
   "execution_count": 40,
   "id": "coral-sheep",
   "metadata": {},
   "outputs": [
    {
     "data": {
      "text/plain": [
       "'B'"
      ]
     },
     "execution_count": 40,
     "metadata": {},
     "output_type": "execute_result"
    }
   ],
   "source": [
    "#8\n",
    "Amour = {\n",
    "\"name\": \"Amour\",\n",
    "\"homework\": [90.0,97.0,75.0,92.0],\n",
    "\"quizzes\": [88.0,40.0,94.0],\n",
    "\"tests\": [75.0,90.0]\n",
    "}\n",
    "Paix = {\n",
    "\"name\": \"Paix\",\n",
    "\"homework\": [100.0, 92.0, 98.0, 100.0],\n",
    "\"quizzes\": [82.0, 83.0, 91.0],\n",
    "\"tests\": [89.0, 97.0]\n",
    "}\n",
    "Foi = {\n",
    "\"name\": \"Foi\",\n",
    "\"homework\": [0.0, 87.0, 75.0, 22.0],\n",
    "\"quizzes\": [0.0, 75.0, 78.0],\n",
    "\"tests\": [100.0, 100.0]\n",
    "}\n",
    "\n",
    "students = [Amour,Paix,Foi]\n",
    "\n",
    "def studentData():\n",
    "    for student in students:\n",
    "        print(\"Nom :\", student['name'])\n",
    "        print(\"Homework :\", student ['homework'])\n",
    "        print(\"quizzes :\", student['quizzes'])\n",
    "        print(\"Tests :\", student ['tests'])\n",
    "        print(\"===========================\")\n",
    "\n",
    "def average(numbers):\n",
    "    total = sum(numbers)\n",
    "    return total / len(numbers)\n",
    "\n",
    "def get_average(student):\n",
    "    homework = average(student[\"homework\"])\n",
    "    quizzes = average(student[\"quizzes\"])\n",
    "    tests = average(student[\"tests\"])\n",
    "    \n",
    "    ListWeight =  [homework*0.1, quizzes*0.3, tests*0.6]\n",
    "    return sum(ListWeight)\n",
    "\n",
    "def get_letter_grade(score):\n",
    "    \n",
    "    if score >= 90: return \"A\"\n",
    "    elif score >= 80 : return \"B\"\n",
    "    elif score >= 70 : return \"C\"\n",
    "    elif score >= 60 : return \"D\"\n",
    "    else: return \"F\"\n",
    "\n",
    "get_letter_grade(get_average(Amour))\n",
    "# B"
   ]
  },
  {
   "cell_type": "code",
   "execution_count": null,
   "id": "protected-hollow",
   "metadata": {},
   "outputs": [],
   "source": []
  }
 ],
 "metadata": {
  "kernelspec": {
   "display_name": "Python 3",
   "language": "python",
   "name": "python3"
  },
  "language_info": {
   "codemirror_mode": {
    "name": "ipython",
    "version": 3
   },
   "file_extension": ".py",
   "mimetype": "text/x-python",
   "name": "python",
   "nbconvert_exporter": "python",
   "pygments_lexer": "ipython3",
   "version": "3.9.2"
  }
 },
 "nbformat": 4,
 "nbformat_minor": 5
}
